{
  "nbformat": 4,
  "nbformat_minor": 0,
  "metadata": {
    "colab": {
      "provenance": []
    },
    "kernelspec": {
      "name": "python3",
      "display_name": "Python 3"
    },
    "language_info": {
      "name": "python"
    }
  },
  "cells": [
    {
      "cell_type": "markdown",
      "source": [
        "# Log Evalution\n",
        "Evaluation of the data gathered from the logs\n",
        "### Keys\n",
        "- Priorty (The priority level assigned by the producer) the level includes: low, medium and high\n",
        "- Partition: Is the unit execution\n",
        "- SentTime: The timestamp from the producer when the message was sent.\n",
        "- ReceivedTime: The timestamp from the consumer when the message was recieved.\n",
        "- TimeSpent: The difference between teh ReceivedTime and SentTime in milliseconds\n",
        "- PayloadSize: The size in byte of the payload sent from the producer to the consumer.\n"
      ],
      "metadata": {
        "id": "05gNhzOoWBY9"
      }
    },
    {
      "cell_type": "markdown",
      "source": [
        "#### Uploading and reading the log file"
      ],
      "metadata": {
        "id": "XrekJvXSYUGl"
      }
    },
    {
      "cell_type": "markdown",
      "source": [],
      "metadata": {
        "id": "tWQjRhLTcOyc"
      }
    },
    {
      "cell_type": "code",
      "source": [
        "from google.colab import files\n",
        "uploaded = files.upload()"
      ],
      "metadata": {
        "colab": {
          "base_uri": "https://localhost:8080/",
          "height": 74
        },
        "id": "HPERog_MYn9p",
        "outputId": "8daf47cb-3464-4319-c347-0b38f7d0b386"
      },
      "execution_count": 1,
      "outputs": [
        {
          "output_type": "display_data",
          "data": {
            "text/plain": [
              "<IPython.core.display.HTML object>"
            ],
            "text/html": [
              "\n",
              "     <input type=\"file\" id=\"files-6927e4ae-030c-4307-b2e3-5100e1b97701\" name=\"files[]\" multiple disabled\n",
              "        style=\"border:none\" />\n",
              "     <output id=\"result-6927e4ae-030c-4307-b2e3-5100e1b97701\">\n",
              "      Upload widget is only available when the cell has been executed in the\n",
              "      current browser session. Please rerun this cell to enable.\n",
              "      </output>\n",
              "      <script>// Copyright 2017 Google LLC\n",
              "//\n",
              "// Licensed under the Apache License, Version 2.0 (the \"License\");\n",
              "// you may not use this file except in compliance with the License.\n",
              "// You may obtain a copy of the License at\n",
              "//\n",
              "//      http://www.apache.org/licenses/LICENSE-2.0\n",
              "//\n",
              "// Unless required by applicable law or agreed to in writing, software\n",
              "// distributed under the License is distributed on an \"AS IS\" BASIS,\n",
              "// WITHOUT WARRANTIES OR CONDITIONS OF ANY KIND, either express or implied.\n",
              "// See the License for the specific language governing permissions and\n",
              "// limitations under the License.\n",
              "\n",
              "/**\n",
              " * @fileoverview Helpers for google.colab Python module.\n",
              " */\n",
              "(function(scope) {\n",
              "function span(text, styleAttributes = {}) {\n",
              "  const element = document.createElement('span');\n",
              "  element.textContent = text;\n",
              "  for (const key of Object.keys(styleAttributes)) {\n",
              "    element.style[key] = styleAttributes[key];\n",
              "  }\n",
              "  return element;\n",
              "}\n",
              "\n",
              "// Max number of bytes which will be uploaded at a time.\n",
              "const MAX_PAYLOAD_SIZE = 100 * 1024;\n",
              "\n",
              "function _uploadFiles(inputId, outputId) {\n",
              "  const steps = uploadFilesStep(inputId, outputId);\n",
              "  const outputElement = document.getElementById(outputId);\n",
              "  // Cache steps on the outputElement to make it available for the next call\n",
              "  // to uploadFilesContinue from Python.\n",
              "  outputElement.steps = steps;\n",
              "\n",
              "  return _uploadFilesContinue(outputId);\n",
              "}\n",
              "\n",
              "// This is roughly an async generator (not supported in the browser yet),\n",
              "// where there are multiple asynchronous steps and the Python side is going\n",
              "// to poll for completion of each step.\n",
              "// This uses a Promise to block the python side on completion of each step,\n",
              "// then passes the result of the previous step as the input to the next step.\n",
              "function _uploadFilesContinue(outputId) {\n",
              "  const outputElement = document.getElementById(outputId);\n",
              "  const steps = outputElement.steps;\n",
              "\n",
              "  const next = steps.next(outputElement.lastPromiseValue);\n",
              "  return Promise.resolve(next.value.promise).then((value) => {\n",
              "    // Cache the last promise value to make it available to the next\n",
              "    // step of the generator.\n",
              "    outputElement.lastPromiseValue = value;\n",
              "    return next.value.response;\n",
              "  });\n",
              "}\n",
              "\n",
              "/**\n",
              " * Generator function which is called between each async step of the upload\n",
              " * process.\n",
              " * @param {string} inputId Element ID of the input file picker element.\n",
              " * @param {string} outputId Element ID of the output display.\n",
              " * @return {!Iterable<!Object>} Iterable of next steps.\n",
              " */\n",
              "function* uploadFilesStep(inputId, outputId) {\n",
              "  const inputElement = document.getElementById(inputId);\n",
              "  inputElement.disabled = false;\n",
              "\n",
              "  const outputElement = document.getElementById(outputId);\n",
              "  outputElement.innerHTML = '';\n",
              "\n",
              "  const pickedPromise = new Promise((resolve) => {\n",
              "    inputElement.addEventListener('change', (e) => {\n",
              "      resolve(e.target.files);\n",
              "    });\n",
              "  });\n",
              "\n",
              "  const cancel = document.createElement('button');\n",
              "  inputElement.parentElement.appendChild(cancel);\n",
              "  cancel.textContent = 'Cancel upload';\n",
              "  const cancelPromise = new Promise((resolve) => {\n",
              "    cancel.onclick = () => {\n",
              "      resolve(null);\n",
              "    };\n",
              "  });\n",
              "\n",
              "  // Wait for the user to pick the files.\n",
              "  const files = yield {\n",
              "    promise: Promise.race([pickedPromise, cancelPromise]),\n",
              "    response: {\n",
              "      action: 'starting',\n",
              "    }\n",
              "  };\n",
              "\n",
              "  cancel.remove();\n",
              "\n",
              "  // Disable the input element since further picks are not allowed.\n",
              "  inputElement.disabled = true;\n",
              "\n",
              "  if (!files) {\n",
              "    return {\n",
              "      response: {\n",
              "        action: 'complete',\n",
              "      }\n",
              "    };\n",
              "  }\n",
              "\n",
              "  for (const file of files) {\n",
              "    const li = document.createElement('li');\n",
              "    li.append(span(file.name, {fontWeight: 'bold'}));\n",
              "    li.append(span(\n",
              "        `(${file.type || 'n/a'}) - ${file.size} bytes, ` +\n",
              "        `last modified: ${\n",
              "            file.lastModifiedDate ? file.lastModifiedDate.toLocaleDateString() :\n",
              "                                    'n/a'} - `));\n",
              "    const percent = span('0% done');\n",
              "    li.appendChild(percent);\n",
              "\n",
              "    outputElement.appendChild(li);\n",
              "\n",
              "    const fileDataPromise = new Promise((resolve) => {\n",
              "      const reader = new FileReader();\n",
              "      reader.onload = (e) => {\n",
              "        resolve(e.target.result);\n",
              "      };\n",
              "      reader.readAsArrayBuffer(file);\n",
              "    });\n",
              "    // Wait for the data to be ready.\n",
              "    let fileData = yield {\n",
              "      promise: fileDataPromise,\n",
              "      response: {\n",
              "        action: 'continue',\n",
              "      }\n",
              "    };\n",
              "\n",
              "    // Use a chunked sending to avoid message size limits. See b/62115660.\n",
              "    let position = 0;\n",
              "    do {\n",
              "      const length = Math.min(fileData.byteLength - position, MAX_PAYLOAD_SIZE);\n",
              "      const chunk = new Uint8Array(fileData, position, length);\n",
              "      position += length;\n",
              "\n",
              "      const base64 = btoa(String.fromCharCode.apply(null, chunk));\n",
              "      yield {\n",
              "        response: {\n",
              "          action: 'append',\n",
              "          file: file.name,\n",
              "          data: base64,\n",
              "        },\n",
              "      };\n",
              "\n",
              "      let percentDone = fileData.byteLength === 0 ?\n",
              "          100 :\n",
              "          Math.round((position / fileData.byteLength) * 100);\n",
              "      percent.textContent = `${percentDone}% done`;\n",
              "\n",
              "    } while (position < fileData.byteLength);\n",
              "  }\n",
              "\n",
              "  // All done.\n",
              "  yield {\n",
              "    response: {\n",
              "      action: 'complete',\n",
              "    }\n",
              "  };\n",
              "}\n",
              "\n",
              "scope.google = scope.google || {};\n",
              "scope.google.colab = scope.google.colab || {};\n",
              "scope.google.colab._files = {\n",
              "  _uploadFiles,\n",
              "  _uploadFilesContinue,\n",
              "};\n",
              "})(self);\n",
              "</script> "
            ]
          },
          "metadata": {}
        },
        {
          "output_type": "stream",
          "name": "stdout",
          "text": [
            "Saving logs_10_1.csv to logs_10_1.csv\n"
          ]
        }
      ]
    },
    {
      "cell_type": "code",
      "source": [
        "# Input the file uploaded file into the uploaded key e.g uploaded['logs.csv']\n",
        "import pandas as pd\n",
        "import io\n",
        "df = pd.read_csv(io.StringIO(uploaded['logs_10_1.csv'].decode('utf-8')))\n",
        "df.head()"
      ],
      "metadata": {
        "colab": {
          "base_uri": "https://localhost:8080/",
          "height": 206
        },
        "id": "N1cXSHuwZZS1",
        "outputId": "4bc6a23e-7e1a-43f3-9c0a-666d62051d96"
      },
      "execution_count": 2,
      "outputs": [
        {
          "output_type": "execute_result",
          "data": {
            "text/plain": [
              "  Priority  Partition                           SentTime  \\\n",
              "0  default         15  2024-03-15 15:22:24.512 +0000 GMT   \n",
              "1  default         15  2024-03-15 15:22:24.512 +0000 GMT   \n",
              "2  default         15  2024-03-15 15:22:24.512 +0000 GMT   \n",
              "3  default         15  2024-03-15 15:22:24.512 +0000 GMT   \n",
              "4  default         15  2024-03-15 15:22:24.512 +0000 GMT   \n",
              "\n",
              "                                        ReceivedTime  TimeSpent  PayloadSize  \n",
              "0  2024-03-15 15:22:24.520941 +0000 GMT m=+13959....          8           83  \n",
              "1  2024-03-15 15:22:24.521251 +0000 GMT m=+13959....          9           83  \n",
              "2  2024-03-15 15:22:24.521597 +0000 GMT m=+13959....          9           83  \n",
              "3  2024-03-15 15:22:24.521691 +0000 GMT m=+13959....          9           83  \n",
              "4  2024-03-15 15:22:24.521791 +0000 GMT m=+13959....          9           83  "
            ],
            "text/html": [
              "\n",
              "  <div id=\"df-da6c41a2-3f87-4338-8faf-a3d817633d4e\" class=\"colab-df-container\">\n",
              "    <div>\n",
              "<style scoped>\n",
              "    .dataframe tbody tr th:only-of-type {\n",
              "        vertical-align: middle;\n",
              "    }\n",
              "\n",
              "    .dataframe tbody tr th {\n",
              "        vertical-align: top;\n",
              "    }\n",
              "\n",
              "    .dataframe thead th {\n",
              "        text-align: right;\n",
              "    }\n",
              "</style>\n",
              "<table border=\"1\" class=\"dataframe\">\n",
              "  <thead>\n",
              "    <tr style=\"text-align: right;\">\n",
              "      <th></th>\n",
              "      <th>Priority</th>\n",
              "      <th>Partition</th>\n",
              "      <th>SentTime</th>\n",
              "      <th>ReceivedTime</th>\n",
              "      <th>TimeSpent</th>\n",
              "      <th>PayloadSize</th>\n",
              "    </tr>\n",
              "  </thead>\n",
              "  <tbody>\n",
              "    <tr>\n",
              "      <th>0</th>\n",
              "      <td>default</td>\n",
              "      <td>15</td>\n",
              "      <td>2024-03-15 15:22:24.512 +0000 GMT</td>\n",
              "      <td>2024-03-15 15:22:24.520941 +0000 GMT m=+13959....</td>\n",
              "      <td>8</td>\n",
              "      <td>83</td>\n",
              "    </tr>\n",
              "    <tr>\n",
              "      <th>1</th>\n",
              "      <td>default</td>\n",
              "      <td>15</td>\n",
              "      <td>2024-03-15 15:22:24.512 +0000 GMT</td>\n",
              "      <td>2024-03-15 15:22:24.521251 +0000 GMT m=+13959....</td>\n",
              "      <td>9</td>\n",
              "      <td>83</td>\n",
              "    </tr>\n",
              "    <tr>\n",
              "      <th>2</th>\n",
              "      <td>default</td>\n",
              "      <td>15</td>\n",
              "      <td>2024-03-15 15:22:24.512 +0000 GMT</td>\n",
              "      <td>2024-03-15 15:22:24.521597 +0000 GMT m=+13959....</td>\n",
              "      <td>9</td>\n",
              "      <td>83</td>\n",
              "    </tr>\n",
              "    <tr>\n",
              "      <th>3</th>\n",
              "      <td>default</td>\n",
              "      <td>15</td>\n",
              "      <td>2024-03-15 15:22:24.512 +0000 GMT</td>\n",
              "      <td>2024-03-15 15:22:24.521691 +0000 GMT m=+13959....</td>\n",
              "      <td>9</td>\n",
              "      <td>83</td>\n",
              "    </tr>\n",
              "    <tr>\n",
              "      <th>4</th>\n",
              "      <td>default</td>\n",
              "      <td>15</td>\n",
              "      <td>2024-03-15 15:22:24.512 +0000 GMT</td>\n",
              "      <td>2024-03-15 15:22:24.521791 +0000 GMT m=+13959....</td>\n",
              "      <td>9</td>\n",
              "      <td>83</td>\n",
              "    </tr>\n",
              "  </tbody>\n",
              "</table>\n",
              "</div>\n",
              "    <div class=\"colab-df-buttons\">\n",
              "\n",
              "  <div class=\"colab-df-container\">\n",
              "    <button class=\"colab-df-convert\" onclick=\"convertToInteractive('df-da6c41a2-3f87-4338-8faf-a3d817633d4e')\"\n",
              "            title=\"Convert this dataframe to an interactive table.\"\n",
              "            style=\"display:none;\">\n",
              "\n",
              "  <svg xmlns=\"http://www.w3.org/2000/svg\" height=\"24px\" viewBox=\"0 -960 960 960\">\n",
              "    <path d=\"M120-120v-720h720v720H120Zm60-500h600v-160H180v160Zm220 220h160v-160H400v160Zm0 220h160v-160H400v160ZM180-400h160v-160H180v160Zm440 0h160v-160H620v160ZM180-180h160v-160H180v160Zm440 0h160v-160H620v160Z\"/>\n",
              "  </svg>\n",
              "    </button>\n",
              "\n",
              "  <style>\n",
              "    .colab-df-container {\n",
              "      display:flex;\n",
              "      gap: 12px;\n",
              "    }\n",
              "\n",
              "    .colab-df-convert {\n",
              "      background-color: #E8F0FE;\n",
              "      border: none;\n",
              "      border-radius: 50%;\n",
              "      cursor: pointer;\n",
              "      display: none;\n",
              "      fill: #1967D2;\n",
              "      height: 32px;\n",
              "      padding: 0 0 0 0;\n",
              "      width: 32px;\n",
              "    }\n",
              "\n",
              "    .colab-df-convert:hover {\n",
              "      background-color: #E2EBFA;\n",
              "      box-shadow: 0px 1px 2px rgba(60, 64, 67, 0.3), 0px 1px 3px 1px rgba(60, 64, 67, 0.15);\n",
              "      fill: #174EA6;\n",
              "    }\n",
              "\n",
              "    .colab-df-buttons div {\n",
              "      margin-bottom: 4px;\n",
              "    }\n",
              "\n",
              "    [theme=dark] .colab-df-convert {\n",
              "      background-color: #3B4455;\n",
              "      fill: #D2E3FC;\n",
              "    }\n",
              "\n",
              "    [theme=dark] .colab-df-convert:hover {\n",
              "      background-color: #434B5C;\n",
              "      box-shadow: 0px 1px 3px 1px rgba(0, 0, 0, 0.15);\n",
              "      filter: drop-shadow(0px 1px 2px rgba(0, 0, 0, 0.3));\n",
              "      fill: #FFFFFF;\n",
              "    }\n",
              "  </style>\n",
              "\n",
              "    <script>\n",
              "      const buttonEl =\n",
              "        document.querySelector('#df-da6c41a2-3f87-4338-8faf-a3d817633d4e button.colab-df-convert');\n",
              "      buttonEl.style.display =\n",
              "        google.colab.kernel.accessAllowed ? 'block' : 'none';\n",
              "\n",
              "      async function convertToInteractive(key) {\n",
              "        const element = document.querySelector('#df-da6c41a2-3f87-4338-8faf-a3d817633d4e');\n",
              "        const dataTable =\n",
              "          await google.colab.kernel.invokeFunction('convertToInteractive',\n",
              "                                                    [key], {});\n",
              "        if (!dataTable) return;\n",
              "\n",
              "        const docLinkHtml = 'Like what you see? Visit the ' +\n",
              "          '<a target=\"_blank\" href=https://colab.research.google.com/notebooks/data_table.ipynb>data table notebook</a>'\n",
              "          + ' to learn more about interactive tables.';\n",
              "        element.innerHTML = '';\n",
              "        dataTable['output_type'] = 'display_data';\n",
              "        await google.colab.output.renderOutput(dataTable, element);\n",
              "        const docLink = document.createElement('div');\n",
              "        docLink.innerHTML = docLinkHtml;\n",
              "        element.appendChild(docLink);\n",
              "      }\n",
              "    </script>\n",
              "  </div>\n",
              "\n",
              "\n",
              "<div id=\"df-76355361-12ad-44c3-b0c1-e5e1c4897b46\">\n",
              "  <button class=\"colab-df-quickchart\" onclick=\"quickchart('df-76355361-12ad-44c3-b0c1-e5e1c4897b46')\"\n",
              "            title=\"Suggest charts\"\n",
              "            style=\"display:none;\">\n",
              "\n",
              "<svg xmlns=\"http://www.w3.org/2000/svg\" height=\"24px\"viewBox=\"0 0 24 24\"\n",
              "     width=\"24px\">\n",
              "    <g>\n",
              "        <path d=\"M19 3H5c-1.1 0-2 .9-2 2v14c0 1.1.9 2 2 2h14c1.1 0 2-.9 2-2V5c0-1.1-.9-2-2-2zM9 17H7v-7h2v7zm4 0h-2V7h2v10zm4 0h-2v-4h2v4z\"/>\n",
              "    </g>\n",
              "</svg>\n",
              "  </button>\n",
              "\n",
              "<style>\n",
              "  .colab-df-quickchart {\n",
              "      --bg-color: #E8F0FE;\n",
              "      --fill-color: #1967D2;\n",
              "      --hover-bg-color: #E2EBFA;\n",
              "      --hover-fill-color: #174EA6;\n",
              "      --disabled-fill-color: #AAA;\n",
              "      --disabled-bg-color: #DDD;\n",
              "  }\n",
              "\n",
              "  [theme=dark] .colab-df-quickchart {\n",
              "      --bg-color: #3B4455;\n",
              "      --fill-color: #D2E3FC;\n",
              "      --hover-bg-color: #434B5C;\n",
              "      --hover-fill-color: #FFFFFF;\n",
              "      --disabled-bg-color: #3B4455;\n",
              "      --disabled-fill-color: #666;\n",
              "  }\n",
              "\n",
              "  .colab-df-quickchart {\n",
              "    background-color: var(--bg-color);\n",
              "    border: none;\n",
              "    border-radius: 50%;\n",
              "    cursor: pointer;\n",
              "    display: none;\n",
              "    fill: var(--fill-color);\n",
              "    height: 32px;\n",
              "    padding: 0;\n",
              "    width: 32px;\n",
              "  }\n",
              "\n",
              "  .colab-df-quickchart:hover {\n",
              "    background-color: var(--hover-bg-color);\n",
              "    box-shadow: 0 1px 2px rgba(60, 64, 67, 0.3), 0 1px 3px 1px rgba(60, 64, 67, 0.15);\n",
              "    fill: var(--button-hover-fill-color);\n",
              "  }\n",
              "\n",
              "  .colab-df-quickchart-complete:disabled,\n",
              "  .colab-df-quickchart-complete:disabled:hover {\n",
              "    background-color: var(--disabled-bg-color);\n",
              "    fill: var(--disabled-fill-color);\n",
              "    box-shadow: none;\n",
              "  }\n",
              "\n",
              "  .colab-df-spinner {\n",
              "    border: 2px solid var(--fill-color);\n",
              "    border-color: transparent;\n",
              "    border-bottom-color: var(--fill-color);\n",
              "    animation:\n",
              "      spin 1s steps(1) infinite;\n",
              "  }\n",
              "\n",
              "  @keyframes spin {\n",
              "    0% {\n",
              "      border-color: transparent;\n",
              "      border-bottom-color: var(--fill-color);\n",
              "      border-left-color: var(--fill-color);\n",
              "    }\n",
              "    20% {\n",
              "      border-color: transparent;\n",
              "      border-left-color: var(--fill-color);\n",
              "      border-top-color: var(--fill-color);\n",
              "    }\n",
              "    30% {\n",
              "      border-color: transparent;\n",
              "      border-left-color: var(--fill-color);\n",
              "      border-top-color: var(--fill-color);\n",
              "      border-right-color: var(--fill-color);\n",
              "    }\n",
              "    40% {\n",
              "      border-color: transparent;\n",
              "      border-right-color: var(--fill-color);\n",
              "      border-top-color: var(--fill-color);\n",
              "    }\n",
              "    60% {\n",
              "      border-color: transparent;\n",
              "      border-right-color: var(--fill-color);\n",
              "    }\n",
              "    80% {\n",
              "      border-color: transparent;\n",
              "      border-right-color: var(--fill-color);\n",
              "      border-bottom-color: var(--fill-color);\n",
              "    }\n",
              "    90% {\n",
              "      border-color: transparent;\n",
              "      border-bottom-color: var(--fill-color);\n",
              "    }\n",
              "  }\n",
              "</style>\n",
              "\n",
              "  <script>\n",
              "    async function quickchart(key) {\n",
              "      const quickchartButtonEl =\n",
              "        document.querySelector('#' + key + ' button');\n",
              "      quickchartButtonEl.disabled = true;  // To prevent multiple clicks.\n",
              "      quickchartButtonEl.classList.add('colab-df-spinner');\n",
              "      try {\n",
              "        const charts = await google.colab.kernel.invokeFunction(\n",
              "            'suggestCharts', [key], {});\n",
              "      } catch (error) {\n",
              "        console.error('Error during call to suggestCharts:', error);\n",
              "      }\n",
              "      quickchartButtonEl.classList.remove('colab-df-spinner');\n",
              "      quickchartButtonEl.classList.add('colab-df-quickchart-complete');\n",
              "    }\n",
              "    (() => {\n",
              "      let quickchartButtonEl =\n",
              "        document.querySelector('#df-76355361-12ad-44c3-b0c1-e5e1c4897b46 button');\n",
              "      quickchartButtonEl.style.display =\n",
              "        google.colab.kernel.accessAllowed ? 'block' : 'none';\n",
              "    })();\n",
              "  </script>\n",
              "</div>\n",
              "    </div>\n",
              "  </div>\n"
            ],
            "application/vnd.google.colaboratory.intrinsic+json": {
              "type": "dataframe",
              "variable_name": "df",
              "summary": "{\n  \"name\": \"df\",\n  \"rows\": 600,\n  \"fields\": [\n    {\n      \"column\": \"Priority\",\n      \"properties\": {\n        \"dtype\": \"category\",\n        \"num_unique_values\": 4,\n        \"samples\": [\n          \"medium\",\n          \"low\",\n          \"default\"\n        ],\n        \"semantic_type\": \"\",\n        \"description\": \"\"\n      }\n    },\n    {\n      \"column\": \"Partition\",\n      \"properties\": {\n        \"dtype\": \"number\",\n        \"std\": 5,\n        \"min\": 1,\n        \"max\": 15,\n        \"num_unique_values\": 4,\n        \"samples\": [\n          3,\n          1,\n          15\n        ],\n        \"semantic_type\": \"\",\n        \"description\": \"\"\n      }\n    },\n    {\n      \"column\": \"SentTime\",\n      \"properties\": {\n        \"dtype\": \"category\",\n        \"num_unique_values\": 48,\n        \"samples\": [\n          \"2024-03-15 15:23:23.057 +0000 GMT\",\n          \"2024-03-15 15:23:57.856 +0000 GMT\",\n          \"2024-03-15 15:23:22.906 +0000 GMT\"\n        ],\n        \"semantic_type\": \"\",\n        \"description\": \"\"\n      }\n    },\n    {\n      \"column\": \"ReceivedTime\",\n      \"properties\": {\n        \"dtype\": \"string\",\n        \"num_unique_values\": 600,\n        \"samples\": [\n          \"2024-03-15 15:22:36.693451 +0000 GMT m=+13971.727412064\",\n          \"2024-03-15 15:23:34.79146 +0000 GMT m=+14029.823908187\",\n          \"2024-03-15 15:24:09.186858 +0000 GMT m=+14064.218409525\"\n        ],\n        \"semantic_type\": \"\",\n        \"description\": \"\"\n      }\n    },\n    {\n      \"column\": \"TimeSpent\",\n      \"properties\": {\n        \"dtype\": \"number\",\n        \"std\": 0,\n        \"min\": 7,\n        \"max\": 11,\n        \"num_unique_values\": 5,\n        \"samples\": [\n          9,\n          11,\n          10\n        ],\n        \"semantic_type\": \"\",\n        \"description\": \"\"\n      }\n    },\n    {\n      \"column\": \"PayloadSize\",\n      \"properties\": {\n        \"dtype\": \"number\",\n        \"std\": 0,\n        \"min\": 83,\n        \"max\": 83,\n        \"num_unique_values\": 1,\n        \"samples\": [\n          83\n        ],\n        \"semantic_type\": \"\",\n        \"description\": \"\"\n      }\n    }\n  ]\n}"
            }
          },
          "metadata": {},
          "execution_count": 2
        }
      ]
    },
    {
      "cell_type": "markdown",
      "source": [
        "Data distribution\n"
      ],
      "metadata": {
        "id": "hKmeVMcWXl9j"
      }
    },
    {
      "cell_type": "code",
      "source": [
        "min = df['TimeSpent'].min()\n",
        "print('Min Time Spent=%.3f' % ( min))\n",
        "\n",
        "max = df['TimeSpent'].max()\n",
        "print('Max Time Spent=%.3f' % ( max))\n",
        "\n",
        "mean = df['TimeSpent'].mean()\n",
        "print('Mean Time Spent=%.3f' % ( mean ))\n",
        "\n",
        "median = df['TimeSpent'].median()\n",
        "print('Median Time Spent=%.3f' % ( median ))\n",
        "\n",
        "std = df['TimeSpent'].std()\n",
        "print('Std Time Spent=%.3f' % ( std ))\n",
        "\n",
        "var_high = df[df['Priority'] == 'high']['TimeSpent']\n",
        "var_medium = df[df['Priority'] == 'medium']['TimeSpent']\n",
        "var_low = df[df['Priority'] == 'low']['TimeSpent']\n",
        "var_default = df[df['Priority'] == 'default']['TimeSpent']\n",
        "print(\"=========================== COUNT ===========================\")\n",
        "print('Total High =%.3f' % ( var_high.count()))\n",
        "print('Total Medium =%.3f' % ( var_medium.count()))\n",
        "print('Total Low =%.3f' % ( var_low.count()))\n",
        "print('Total Default =%.3f' % ( var_default.count()))\n",
        "print(\"=========================== MIN ===========================\")\n",
        "print('Total High =%.3f' % ( var_high.min()))\n",
        "print('Total Medium =%.3f' % ( var_medium.min()))\n",
        "print('Total Low =%.3f' % ( var_low.min()))\n",
        "print('Total Default =%.3f' % ( var_default.min()))\n",
        "print(\"=========================== MAX ===========================\")\n",
        "print('Total High =%.3f' % ( var_high.max()))\n",
        "print('Total Medium =%.3f' % ( var_medium.max()))\n",
        "print('Total Low =%.3f' % ( var_low.max()))\n",
        "print('Total Default =%.3f' % ( var_default.max()))\n",
        "\n",
        "print(\"=========================== Group ===========================\")\n",
        "g_high_low_medium = df[df['Priority'].isin(['high', 'low', 'medium'])]['TimeSpent']\n",
        "print('Total Group Mean =%.3f' % ( g_high_low_medium.mean()))\n",
        "print('Total Group Median =%.3f' % ( g_high_low_medium.median()))\n",
        "print('Total Group STD =%.3f' % ( g_high_low_medium.std()))\n"
      ],
      "metadata": {
        "colab": {
          "base_uri": "https://localhost:8080/"
        },
        "id": "NPkiKPnpXleq",
        "outputId": "e78ff1d7-9a5d-43e0-ea50-3bf1c8051d5d"
      },
      "execution_count": 3,
      "outputs": [
        {
          "output_type": "stream",
          "name": "stdout",
          "text": [
            "Min Time Spent=7.000\n",
            "Max Time Spent=11.000\n",
            "Mean Time Spent=8.728\n",
            "Median Time Spent=9.000\n",
            "Std Time Spent=0.879\n",
            "=========================== COUNT ===========================\n",
            "Total High =100.000\n",
            "Total Medium =100.000\n",
            "Total Low =100.000\n",
            "Total Default =300.000\n",
            "=========================== MIN ===========================\n",
            "Total High =7.000\n",
            "Total Medium =7.000\n",
            "Total Low =7.000\n",
            "Total Default =7.000\n",
            "=========================== MAX ===========================\n",
            "Total High =10.000\n",
            "Total Medium =10.000\n",
            "Total Low =10.000\n",
            "Total Default =11.000\n",
            "=========================== Group ===========================\n",
            "Total Group Mean =8.433\n",
            "Total Group Median =8.000\n",
            "Total Group STD =0.735\n"
          ]
        }
      ]
    },
    {
      "cell_type": "markdown",
      "source": [
        "**Mean Distrubtion**"
      ],
      "metadata": {
        "id": "vZVfTbt8-Sdk"
      }
    },
    {
      "cell_type": "code",
      "source": [
        "mean_distribution = df.groupby('Priority')['TimeSpent'].mean()\n",
        "print(mean_distribution)\n",
        "overall_mean = df['TimeSpent'].mean()"
      ],
      "metadata": {
        "colab": {
          "base_uri": "https://localhost:8080/"
        },
        "id": "J3WUuMZZgZjK",
        "outputId": "ed219a90-15cd-49a7-b163-d1fd54a7c493"
      },
      "execution_count": 4,
      "outputs": [
        {
          "output_type": "stream",
          "name": "stdout",
          "text": [
            "Priority\n",
            "default    9.023333\n",
            "high       8.360000\n",
            "low        8.570000\n",
            "medium     8.370000\n",
            "Name: TimeSpent, dtype: float64\n"
          ]
        }
      ]
    },
    {
      "cell_type": "markdown",
      "source": [
        "**Median**\n"
      ],
      "metadata": {
        "id": "RR9io2vu960p"
      }
    },
    {
      "cell_type": "code",
      "source": [
        "median_distribution = df.groupby('Priority')['TimeSpent'].median()\n",
        "print(median_distribution)\n",
        "overall_mean = df['TimeSpent'].median()"
      ],
      "metadata": {
        "colab": {
          "base_uri": "https://localhost:8080/"
        },
        "id": "WWjleEBF-Htr",
        "outputId": "7d95ba3c-87cc-485f-df00-7c5b5b0941ab"
      },
      "execution_count": 5,
      "outputs": [
        {
          "output_type": "stream",
          "name": "stdout",
          "text": [
            "Priority\n",
            "default    9.0\n",
            "high       8.0\n",
            "low        9.0\n",
            "medium     8.0\n",
            "Name: TimeSpent, dtype: float64\n"
          ]
        }
      ]
    },
    {
      "cell_type": "markdown",
      "source": [
        "**Standard Deviation**"
      ],
      "metadata": {
        "id": "TUPMzgx1-fOW"
      }
    },
    {
      "cell_type": "code",
      "source": [
        "std_distribution = df.groupby(['Priority'])['TimeSpent'].std()\n",
        "print(std_distribution)"
      ],
      "metadata": {
        "colab": {
          "base_uri": "https://localhost:8080/"
        },
        "id": "XZDZCQPE-jLx",
        "outputId": "882eb8ed-0152-47da-b948-66d148e501ed"
      },
      "execution_count": 6,
      "outputs": [
        {
          "output_type": "stream",
          "name": "stdout",
          "text": [
            "Priority\n",
            "default    0.912266\n",
            "high       0.689312\n",
            "low        0.768772\n",
            "medium     0.733815\n",
            "Name: TimeSpent, dtype: float64\n"
          ]
        }
      ]
    },
    {
      "cell_type": "code",
      "source": [
        "import matplotlib.pyplot as plt\n",
        "\n",
        "# Distribution values\n",
        "mean_distribution_values = [var_high.mean(), var_medium.mean(), var_low.mean()]\n",
        "std_distribution_values = [var_high.std(), var_medium.std(), var_low.std()]\n",
        "\n",
        "priority_labels = ['high', 'medium', 'low']\n",
        "\n",
        "# Plotting the line plot\n",
        "plt.figure(figsize=(10, 6))\n",
        "\n",
        "# Plotting the mean distribution\n",
        "plt.plot(priority_labels, mean_distribution_values, marker='o', color='skyblue', label='Mean Distribution')\n",
        "\n",
        "# Add error bars\n",
        "plt.errorbar(priority_labels, mean_distribution_values, yerr=std_distribution_values, fmt='o', color=\"red\", label=\"Standard Deviation\")\n",
        "\n",
        "# Adding labels and title\n",
        "plt.xlabel('Priority')\n",
        "plt.ylabel('Time Spent')\n",
        "plt.legend()\n",
        "\n",
        "# Show plot\n",
        "plt.grid(True)\n",
        "plt.show()"
      ],
      "metadata": {
        "colab": {
          "base_uri": "https://localhost:8080/",
          "height": 542
        },
        "id": "iNJVKcTO7wfN",
        "outputId": "6a6ed077-d927-4f93-f705-e99fc6bb3d41"
      },
      "execution_count": 7,
      "outputs": [
        {
          "output_type": "display_data",
          "data": {
            "text/plain": [
              "<Figure size 1000x600 with 1 Axes>"
            ],
            "image/png": "[encoded data removed]"
          },
          "metadata": {}
        }
      ]
    },
    {
      "cell_type": "markdown",
      "source": [
        "**Mann-Whitney U Test**"
      ],
      "metadata": {
        "id": "j6XHoOok-js1"
      }
    },
    {
      "cell_type": "code",
      "source": [
        "from scipy.stats import mannwhitneyu\n",
        "\n",
        "\n",
        "default = df[df['Priority'] == 'default']['TimeSpent']\n",
        "high = df[df['Priority'] == 'high']['TimeSpent']\n",
        "medium = df[df['Priority'] == 'medium']['TimeSpent']\n",
        "low = df[df['Priority'] == 'low']['TimeSpent']\n",
        "\n",
        "stat1, p1 = mannwhitneyu(high, default)\n",
        "print('High and Default Statistics=%.3f, p=%.3f' % (stat1, p1))\n",
        "\n",
        "stat2, p2 = mannwhitneyu(medium, default)\n",
        "print('Medium and Default Statistics=%.3f, p=%.3f' % (stat2, p2))\n",
        "\n",
        "stat3, p3 = mannwhitneyu(low, default)\n",
        "print('Low and Default Statistics=%.3f, p=%.3f' % (stat3, p3))\n",
        "\n",
        "\n",
        "group_high_low_medium = df[df['Priority'].isin(['high', 'low', 'medium'])]['TimeSpent']\n",
        "group_default = df[df['Priority'] == 'default']['TimeSpent']\n",
        "\n",
        "stat, p = mannwhitneyu(group_high_low_medium, group_default)\n",
        "\n",
        "print('Mann-Whitney U statistic = %.3f, p = %.3f' % (stat, p))\n"
      ],
      "metadata": {
        "colab": {
          "base_uri": "https://localhost:8080/"
        },
        "id": "NTteBM17-rSU",
        "outputId": "ce59ab42-baf3-4b34-c47f-ec02bb72625f"
      },
      "execution_count": 26,
      "outputs": [
        {
          "output_type": "stream",
          "name": "stdout",
          "text": [
            "High and Default Statistics=9129.000, p=0.000\n",
            "Medium and Default Statistics=9111.500, p=0.000\n",
            "Low and Default Statistics=11032.000, p=0.000\n",
            "Mann-Whitney U statistic = 29272.500, p = 0.000\n"
          ]
        }
      ]
    },
    {
      "cell_type": "code",
      "source": [
        "import matplotlib.pyplot as plt\n",
        "import seaborn as sns\n",
        "\n",
        "\n",
        "# High with default\n",
        "plt.figure(figsize=(10, 6))\n",
        "sns.histplot(high, color='blue',  label='High', bins=20)\n",
        "sns.histplot(default, color='red', label='Default', bins=20)\n",
        "plt.xlabel('TimeSpent')\n",
        "plt.title('Histogram of TimeSpent for High and Default Priorities')\n",
        "plt.legend()\n",
        "plt.show()\n",
        "\n",
        "# Medium with default\n",
        "plt.figure(figsize=(10, 6))\n",
        "sns.histplot(medium, color='green',  label='Medium', bins=20)\n",
        "sns.histplot(default, color='red',  label='Default', bins=20)\n",
        "plt.xlabel('TimeSpent')\n",
        "plt.title('Histogram of TimeSpent for Medium and Default Priorities')\n",
        "plt.legend()\n",
        "plt.show()\n",
        "\n",
        "# High with default\n",
        "plt.figure(figsize=(10, 6))\n",
        "sns.histplot(low, color='yellow', label='Low', bins=20)\n",
        "sns.histplot(default, color='red', label='Default', bins=20)\n",
        "plt.xlabel('TimeSpent')\n",
        "plt.title('Histogram of TimeSpent for Low and Default Priorities')\n",
        "plt.legend()\n",
        "plt.show()\n",
        "\n",
        "#group_high_low_medium and group_default are your two groups\n",
        "plt.figure(figsize=(10, 6))\n",
        "sns.histplot(group_high_low_medium, color='blue', label='high, low, medium')\n",
        "sns.histplot(default, color='red',  label='ordered')\n",
        "plt.xlabel('TimeSpent')\n",
        "plt.legend()\n",
        "plt.show()"
      ],
      "metadata": {
        "colab": {
          "base_uri": "https://localhost:8080/",
          "height": 1000
        },
        "id": "kfj4OFsYGmwD",
        "outputId": "cce623e5-1ec7-4236-dec4-12e705127c9a"
      },
      "execution_count": 34,
      "outputs": [
        {
          "output_type": "display_data",
          "data": {
            "text/plain": [
              "<Figure size 1000x600 with 1 Axes>"
            ],
            "image/png": "[encoded data removed]"
          },
          "metadata": {}
        },
        {
          "output_type": "display_data",
          "data": {
            "text/plain": [
              "<Figure size 1000x600 with 1 Axes>"
            ],
            "image/png": "[encoded data removed]"
          },
          "metadata": {}
        },
        {
          "output_type": "display_data",
          "data": {
            "text/plain": [
              "<Figure size 1000x600 with 1 Axes>"
            ],
            "image/png": "[encoded data removed]"
          },
          "metadata": {}
        },
        {
          "output_type": "display_data",
          "data": {
            "text/plain": [
              "<Figure size 1000x600 with 1 Axes>"
            ],
            "image/png": "[encoded data removed]"
          },
          "metadata": {}
        }
      ]
    }
  ]
}